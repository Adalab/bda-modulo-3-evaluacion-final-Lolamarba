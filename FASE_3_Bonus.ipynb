{
 "cells": [
  {
   "cell_type": "markdown",
   "metadata": {},
   "source": [
    "# BONUS Fase 3: Evaluación de Diferencias en Reservas de Vuelos por Nivel Educativo\n",
    "\n",
    "Utilizando un conjunto de datos que hemos compartido, se busca evaluar si existen diferencias\n",
    "significativas en el número de vuelos reservados según el nivel educativo de los clientes. Para ello, los\n",
    "pasos que deberas seguir son:\n",
    "\n",
    "- Preparación de Datos: Filtra el conjunto de datos para incluir únicamente las columnas relevantes:\n",
    "'Flights Booked' y 'Education'.\n",
    "- Análisis Descriptivo: Agrupa los datos por nivel educativo y calcula estadísticas descriptivas\n",
    "básicas (como el promedio, la desviación estandar) del número de vuelos reservados para cada\n",
    "grupo.\n",
    "- Prueba Estadística: Realiza una prueba de hipótesis para determinar si existe una diferencia\n",
    "significativa en el número de vuelos reservados entre los diferentes niveles educativos."
   ]
  }
 ],
 "metadata": {
  "kernelspec": {
   "display_name": "base",
   "language": "python",
   "name": "python3"
  },
  "language_info": {
   "name": "python",
   "version": "3.12.4"
  }
 },
 "nbformat": 4,
 "nbformat_minor": 2
}
